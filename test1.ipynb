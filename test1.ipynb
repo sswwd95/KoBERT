{
 "cells": [
  {
   "cell_type": "code",
   "execution_count": null,
   "source": [
    "import torch\n",
    "from torch import nn"
   ],
   "outputs": [],
   "metadata": {}
  }
 ],
 "metadata": {
  "orig_nbformat": 4,
  "language_info": {
   "name": "python",
   "version": "3.8.3"
  },
  "kernelspec": {
   "name": "python3",
   "display_name": "Python 3.8.3 64-bit ('kobert_3.8': venv)"
  },
  "interpreter": {
   "hash": "c4b54a46b53a6501922b234bd980488d1426a5705a70dd02e5c4babc7dba10eb"
  }
 },
 "nbformat": 4,
 "nbformat_minor": 2
}